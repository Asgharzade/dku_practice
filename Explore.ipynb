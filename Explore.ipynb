{
 "cells": [
  {
   "cell_type": "code",
   "execution_count": 1,
   "metadata": {},
   "outputs": [],
   "source": [
    "import os\n",
    "import pandas as pd\n",
    "import pandas as pd\n",
    "import json\n",
    "from ydata_profiling import ProfileReport\n",
    "# from ydata_profiling.utils.cache import cache_file\n",
    "import seaborn as sns"
   ]
  },
  {
   "cell_type": "code",
   "execution_count": 2,
   "metadata": {},
   "outputs": [],
   "source": [
    "#load metadata\n",
    "with open('data/processing/metadata.json', 'r') as f:\n",
    "    definitions = json.load(f)\n",
    "\n",
    "with open('data/processing/industry-recode.json', 'r') as f:\n",
    "    industry_recode = json.load(f)\n",
    "\n",
    "with open('data/processing/occupasion-recode.json', 'r') as f:\n",
    "    occupasion_recode = json.load(f)\n",
    "\n",
    "with open('data/processing/education-recode.json', 'r') as f:\n",
    "    education_recoder = json.load(f)\n",
    "\n",
    "with open('data/processing/martial-recode.json', 'r') as f:\n",
    "    martial_recoder = json.load(f)\n",
    "\n",
    "with open('data/processing/unemployment-recode.json', 'r') as f:\n",
    "    unemployment_recoder = json.load(f)\n",
    "\n",
    "with open('data/processing/typeemployment-recode.json', 'r') as f:\n",
    "    typeemployment_recoder = json.load(f)\n",
    "\n",
    "with open('data/processing/migrationwithin-recode.json', 'r') as f:\n",
    "    migrationwithin_recoder = json.load(f)\n",
    "\n",
    "with open('data/processing/broader_values_mapping.json', 'r') as f:\n",
    "    broader_values_mapping = json.load(f)\n",
    "\n",
    "with open('data/processing/class_worker_mapping.json', 'r') as f:\n",
    "    class_worker_mapping = json.load(f)\n",
    "\n",
    "with open('data/processing/household_status_mapping.json', 'r') as f:\n",
    "    household_status_mapping = json.load(f)\n",
    "\n",
    "with open('data/processing/msa_migration_mapping.json', 'r') as f:\n",
    "    msa_migration_mapping = json.load(f)\n",
    "\n",
    "with open('data/processing/tax_status_mapping.json', 'r') as f:\n",
    "    tax_status_mapping = json.load(f)\n"
   ]
  },
  {
   "cell_type": "code",
   "execution_count": 3,
   "metadata": {},
   "outputs": [],
   "source": [
    "#load the data\n",
    "df = pd.read_csv('data/raw/census_income_learn.csv', header=None, names=definitions.keys())"
   ]
  },
  {
   "cell_type": "code",
   "execution_count": 4,
   "metadata": {},
   "outputs": [
    {
     "name": "stdout",
     "output_type": "stream",
     "text": [
      "Number of duplicate rows removed: 3229\n"
     ]
    }
   ],
   "source": [
    "# Remove duplicates and keep the first occurrence\n",
    "\n",
    "print(f\"Number of duplicate rows removed: {df.shape[0] - df.drop_duplicates().shape[0]}\")\n",
    "df = df.drop_duplicates()\n"
   ]
  },
  {
   "cell_type": "code",
   "execution_count": 5,
   "metadata": {},
   "outputs": [],
   "source": [
    "# cleaning\n",
    "\n",
    "# remove ignore col\n",
    "try: \n",
    "    df.drop(columns=['ignore'], inplace=True)\n",
    "except:\n",
    "    pass\n",
    "\n",
    "# fix year\"\n",
    "if df['year'].min() < 100:\n",
    "    df['year'] = df['year'] + 1900\n",
    "\n",
    "# map industry code\n",
    "if df['detailed_industry_recode'].dtype == 'int64':\n",
    "    df['detailed_industry_recode'] = df['detailed_industry_recode'].astype(str).map(industry_recode)\n",
    "\n",
    "# map occupation code\n",
    "if df['detailed_occupation_recode'].dtype == 'int64':\n",
    "    df['detailed_occupation_recode'] = df['detailed_occupation_recode'].astype(str).map(occupasion_recode)\n",
    "\n",
    "if 'Advanced Degree' not in df['education'].unique():\n",
    "    df['education'] = df['education'].map(education_recoder)\n",
    "\n",
    "if 'Married' not in df['marital_stat'].unique():\n",
    "    df['marital_stat'] = df['marital_stat'].map(martial_recoder)\n",
    "\n",
    "if ' Other job loser' in df['reason_for_unemployment'].unique():\n",
    "    df['reason_for_unemployment'] = df['reason_for_unemployment'].map(unemployment_recoder)\n",
    "\n",
    "if ' Not in labor force' in df['full_or_part_time_employment_stat'].unique():\n",
    "    df['full_or_part_time_employment_stat'] = df['full_or_part_time_employment_stat'].map(typeemployment_recoder)\n",
    "\n",
    "df['migration_prev_res_in_sunbelt'] = df['migration_prev_res_in_sunbelt'].replace(' ?', 'Not in universe')\n",
    "\n",
    "df['migration_code_change_in_reg'] = df['migration_code_change_in_reg'].map(migrationwithin_recoder)\n",
    "\n",
    "# map values \n",
    "\n",
    "df['migration_code_change_in_msa'] = df['migration_code_change_in_msa'].map(msa_migration_mapping)\n",
    "df['detailed_household_and_family_stat'] = df['detailed_household_and_family_stat'].map(household_status_mapping)\n",
    "df['migration_code_change_in_reg'].map(broader_values_mapping)\n",
    "df['tax_filer_stat'] = df['tax_filer_stat'].map(tax_status_mapping)\n",
    "df['class_of_worker'] = df['class_of_worker'].map(class_worker_mapping)\n",
    "\n",
    "# map additional values\n",
    "veteran_status_mapping = {\n",
    "    2: 'Not a Veteran',\n",
    "    1: 'Veteran',\n",
    "    0: 'Not in universe'\n",
    "}\n",
    "df['veterans_benefits'] = df['veterans_benefits'].map(veteran_status_mapping)\n",
    "\n",
    "selfemployed_mapping = {\n",
    "    2: 'No',\n",
    "    1: 'Yes',\n",
    "    0: 'Not in universe'\n",
    "}\n",
    "df['own_business_or_self_employed'] = df['own_business_or_self_employed'].map(selfemployed_mapping)\n",
    "\n",
    "# replacement values\n",
    "df['migration_prev_res_in_sunbelt']=df['migration_prev_res_in_sunbelt'].replace('Not in universe', 'Not in universe').replace(' Not in universe', 'Not in universe')\n",
    "df['live_in_this_house_1_year_ago']=df['live_in_this_house_1_year_ago'].replace(' Not in universe under 1 year old', 'Not in universe')\n",
    "\n",
    "# replacing the  target column\n",
    "df['target'] = df['target'].replace(' - 50000.', '1').replace(' 50000+.', '0')"
   ]
  },
  {
   "cell_type": "code",
   "execution_count": 15,
   "metadata": {},
   "outputs": [
    {
     "data": {
      "application/vnd.jupyter.widget-view+json": {
       "model_id": "5651b4d5d5a9483e92568d7d1428cc7a",
       "version_major": 2,
       "version_minor": 0
      },
      "text/plain": [
       "Summarize dataset:   0%|          | 0/5 [00:00<?, ?it/s]"
      ]
     },
     "metadata": {},
     "output_type": "display_data"
    },
    {
     "data": {
      "application/vnd.jupyter.widget-view+json": {
       "model_id": "de8e830db80142e8a8acd93ec533de41",
       "version_major": 2,
       "version_minor": 0
      },
      "text/plain": [
       "Generate report structure:   0%|          | 0/1 [00:00<?, ?it/s]"
      ]
     },
     "metadata": {},
     "output_type": "display_data"
    },
    {
     "data": {
      "application/vnd.jupyter.widget-view+json": {
       "model_id": "fac924406beb4c53a6f0aa4e073a3342",
       "version_major": 2,
       "version_minor": 0
      },
      "text/plain": [
       "Render HTML:   0%|          | 0/1 [00:00<?, ?it/s]"
      ]
     },
     "metadata": {},
     "output_type": "display_data"
    },
    {
     "data": {
      "application/vnd.jupyter.widget-view+json": {
       "model_id": "db4c21a1dbab4d02ad244af93c360700",
       "version_major": 2,
       "version_minor": 0
      },
      "text/plain": [
       "Export report to file:   0%|          | 0/1 [00:00<?, ?it/s]"
      ]
     },
     "metadata": {},
     "output_type": "display_data"
    }
   ],
   "source": [
    "#ydata profiling\n",
    "profile = ProfileReport(df, title=\"census data report\", explorative= True).to_file('data/processing/census_data_process_report.html')"
   ]
  },
  {
   "cell_type": "code",
   "execution_count": 13,
   "metadata": {},
   "outputs": [],
   "source": [
    "profile_minimial = ProfileReport(df, title=\"census data report\", minimal=True)"
   ]
  },
  {
   "cell_type": "code",
   "execution_count": 8,
   "metadata": {},
   "outputs": [
    {
     "data": {
      "application/vnd.jupyter.widget-view+json": {
       "model_id": "a82cd03e80c1426ba093f95749fa86fc",
       "version_major": 2,
       "version_minor": 0
      },
      "text/plain": [
       "Summarize dataset:   0%|          | 0/5 [00:00<?, ?it/s]"
      ]
     },
     "metadata": {},
     "output_type": "display_data"
    },
    {
     "data": {
      "application/vnd.jupyter.widget-view+json": {
       "model_id": "db176cd06ebb4359b93926764d836daa",
       "version_major": 2,
       "version_minor": 0
      },
      "text/plain": [
       "Render JSON:   0%|          | 0/1 [00:00<?, ?it/s]"
      ]
     },
     "metadata": {},
     "output_type": "display_data"
    },
    {
     "data": {
      "application/vnd.jupyter.widget-view+json": {
       "model_id": "e7b76ebf76c34c6ea128fe70930f66f2",
       "version_major": 2,
       "version_minor": 0
      },
      "text/plain": [
       "Export report to file:   0%|          | 0/1 [00:00<?, ?it/s]"
      ]
     },
     "metadata": {},
     "output_type": "display_data"
    }
   ],
   "source": [
    "profile.to_file('data/processing/census_data_process_report.json')"
   ]
  },
  {
   "cell_type": "code",
   "execution_count": 26,
   "metadata": {},
   "outputs": [
    {
     "data": {
      "application/vnd.jupyter.widget-view+json": {
       "model_id": "5bfd011114a647559ffe000337a5d241",
       "version_major": 2,
       "version_minor": 0
      },
      "text/plain": [
       "Summarize dataset:   0%|          | 0/5 [00:00<?, ?it/s]"
      ]
     },
     "metadata": {},
     "output_type": "display_data"
    },
    {
     "data": {
      "application/vnd.jupyter.widget-view+json": {
       "model_id": "723b56b28a9e41ad90ab42819642d6e5",
       "version_major": 2,
       "version_minor": 0
      },
      "text/plain": [
       "Generate report structure:   0%|          | 0/1 [00:00<?, ?it/s]"
      ]
     },
     "metadata": {},
     "output_type": "display_data"
    },
    {
     "data": {
      "application/vnd.jupyter.widget-view+json": {
       "model_id": "1a53cc4a3ef9413091714818a57bffa5",
       "version_major": 2,
       "version_minor": 0
      },
      "text/plain": [
       "Render HTML:   0%|          | 0/1 [00:00<?, ?it/s]"
      ]
     },
     "metadata": {},
     "output_type": "display_data"
    },
    {
     "data": {
      "application/vnd.jupyter.widget-view+json": {
       "model_id": "ca809de76c5e4165b0231c7403efcec2",
       "version_major": 2,
       "version_minor": 0
      },
      "text/plain": [
       "Export report to file:   0%|          | 0/1 [00:00<?, ?it/s]"
      ]
     },
     "metadata": {},
     "output_type": "display_data"
    }
   ],
   "source": [
    "profile.to_file('data/processing/census_data_process_report.html')"
   ]
  },
  {
   "cell_type": "code",
   "execution_count": 14,
   "metadata": {},
   "outputs": [
    {
     "data": {
      "application/vnd.jupyter.widget-view+json": {
       "model_id": "41f5191795af4ea6bc3a02fb1725f7fa",
       "version_major": 2,
       "version_minor": 0
      },
      "text/plain": [
       "Summarize dataset:   0%|          | 0/5 [00:00<?, ?it/s]"
      ]
     },
     "metadata": {},
     "output_type": "display_data"
    },
    {
     "data": {
      "application/vnd.jupyter.widget-view+json": {
       "model_id": "3117b5d1181d49cd85fcd053fd4f68ea",
       "version_major": 2,
       "version_minor": 0
      },
      "text/plain": [
       "Generate report structure:   0%|          | 0/1 [00:00<?, ?it/s]"
      ]
     },
     "metadata": {},
     "output_type": "display_data"
    },
    {
     "data": {
      "application/vnd.jupyter.widget-view+json": {
       "model_id": "342e028ce8d84348a231a4920961ff79",
       "version_major": 2,
       "version_minor": 0
      },
      "text/plain": [
       "Render HTML:   0%|          | 0/1 [00:00<?, ?it/s]"
      ]
     },
     "metadata": {},
     "output_type": "display_data"
    },
    {
     "data": {
      "application/vnd.jupyter.widget-view+json": {
       "model_id": "b3d37592ee8a4249893194a5f96175b5",
       "version_major": 2,
       "version_minor": 0
      },
      "text/plain": [
       "Export report to file:   0%|          | 0/1 [00:00<?, ?it/s]"
      ]
     },
     "metadata": {},
     "output_type": "display_data"
    }
   ],
   "source": [
    "profile_minimial.to_file('data/processing/census_data_process_report_minimal.html')"
   ]
  },
  {
   "cell_type": "code",
   "execution_count": null,
   "metadata": {},
   "outputs": [],
   "source": []
  }
 ],
 "metadata": {
  "kernelspec": {
   "display_name": ".venv",
   "language": "python",
   "name": "python3"
  },
  "language_info": {
   "codemirror_mode": {
    "name": "ipython",
    "version": 3
   },
   "file_extension": ".py",
   "mimetype": "text/x-python",
   "name": "python",
   "nbconvert_exporter": "python",
   "pygments_lexer": "ipython3",
   "version": "3.12.1"
  }
 },
 "nbformat": 4,
 "nbformat_minor": 2
}
