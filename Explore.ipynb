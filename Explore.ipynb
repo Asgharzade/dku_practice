{
 "cells": [
  {
   "cell_type": "code",
   "execution_count": 1,
   "metadata": {},
   "outputs": [],
   "source": [
    "import os\n",
    "import pandas as pd\n",
    "import pandas as pd\n",
    "import json\n",
    "from ydata_profiling import ProfileReport\n",
    "from ydata_profiling.utils.cache import cache_file\n",
    "import seaborn as sns"
   ]
  },
  {
   "cell_type": "code",
   "execution_count": 74,
   "metadata": {},
   "outputs": [],
   "source": [
    "#load metadata\n",
    "with open('data/processing/metadata.json', 'r') as f:\n",
    "    definitions = json.load(f)\n",
    "\n",
    "with open('data/processing/industry-recode.json', 'r') as f:\n",
    "    industry_recode = json.load(f)\n",
    "\n",
    "with open('data/processing/occupasion-recode.json', 'r') as f:\n",
    "    occupasion_recode = json.load(f)\n",
    "\n",
    "with open('data/processing/education-recode.json', 'r') as f:\n",
    "    education_recoder = json.load(f)\n",
    "\n",
    "with open('data/processing/martial-recode.json', 'r') as f:\n",
    "    martial_recoder = json.load(f)\n",
    "\n",
    "with open('data/processing/unemployment-recode.json', 'r') as f:\n",
    "    unemployment_recoder = json.load(f)\n",
    "\n",
    "with open('data/processing/typeemployment-recode.json', 'r') as f:\n",
    "    typeemployment_recoder = json.load(f)"
   ]
  },
  {
   "cell_type": "code",
   "execution_count": 75,
   "metadata": {},
   "outputs": [],
   "source": [
    "#load the data\n",
    "df = pd.read_csv('data/raw/census_income_learn.csv', header=None, names=definitions.keys())"
   ]
  },
  {
   "cell_type": "code",
   "execution_count": 76,
   "metadata": {},
   "outputs": [],
   "source": [
    "# cleaning\n",
    "\n",
    "# remove ignore col\n",
    "try: \n",
    "    df.drop(columns=['ignore'], inplace=True)\n",
    "except:\n",
    "    pass\n",
    "\n",
    "# fix year\"\n",
    "if df['year'].min() < 100:\n",
    "    df['year'] = df['year'] + 1900\n",
    "\n",
    "# map industry code\n",
    "if df['detailed_industry_recode'].dtype == 'int64':\n",
    "    df['detailed_industry_recode'] = df['detailed_industry_recode'].astype(str).map(industry_recode)\n",
    "\n",
    "# map occupation code\n",
    "if df['detailed_occupation_recode'].dtype == 'int64':\n",
    "    df['detailed_occupation_recode'] = df['detailed_occupation_recode'].astype(str).map(occupasion_recode)\n",
    "\n",
    "if 'Advanced Degree' not in df['education'].unique():\n",
    "    df['education'] = df['education'].map(education_recoder)\n",
    "\n",
    "if 'Married' not in df['marital_stat'].unique():\n",
    "    df['marital_stat'] = df['marital_stat'].map(martial_recoder)\n",
    "\n",
    "if ' Other job loser' in df['reason_for_unemployment'].unique():\n",
    "    df['reason_for_unemployment'] = df['reason_for_unemployment'].map(unemployment_recoder)\n",
    "\n",
    "if ' Not in labor force' in df['full_or_part_time_employment_stat'].unique():\n",
    "    df['full_or_part_time_employment_stat'] = df['full_or_part_time_employment_stat'].map(typeemployment_recoder)\n",
    "\n",
    "# drop duplicates values\n",
    "df.drop_duplicates(inplace=True)"
   ]
  },
  {
   "cell_type": "code",
   "execution_count": 81,
   "metadata": {},
   "outputs": [
    {
     "data": {
      "text/plain": [
       "array([' Nonfiler', ' Head of household', ' Joint both under 65',\n",
       "       ' Single', ' Joint both 65+', ' Joint one under 65 & one 65+'],\n",
       "      dtype=object)"
      ]
     },
     "execution_count": 81,
     "metadata": {},
     "output_type": "execute_result"
    }
   ],
   "source": [
    "df['tax_filer_stat'].unique()"
   ]
  },
  {
   "cell_type": "code",
   "execution_count": 73,
   "metadata": {},
   "outputs": [
    {
     "data": {
      "text/plain": [
       "array([' Not in labor force', ' Children or Armed Forces',\n",
       "       ' Full-time schedules', ' Unemployed full-time',\n",
       "       ' Unemployed part- time', ' PT for non-econ reasons usually FT',\n",
       "       ' PT for econ reasons usually PT',\n",
       "       ' PT for econ reasons usually FT'], dtype=object)"
      ]
     },
     "execution_count": 73,
     "metadata": {},
     "output_type": "execute_result"
    }
   ],
   "source": [
    "df['full_or_part_time_employment_stat'].unique()"
   ]
  },
  {
   "cell_type": "code",
   "execution_count": 53,
   "metadata": {
    "vscode": {
     "languageId": "javascript"
    }
   },
   "outputs": [
    {
     "data": {
      "text/plain": [
       "full_or_part_time_employment_stat\n",
       "Not Employed    147252\n",
       "FTE              43038\n",
       "PTE               5056\n",
       "Name: count, dtype: int64"
      ]
     },
     "execution_count": 53,
     "metadata": {},
     "output_type": "execute_result"
    }
   ],
   "source": [
    "df['full_or_part_time_employment_stat'].map(typeemployment_recoder).value_counts()"
   ]
  },
  {
   "cell_type": "code",
   "execution_count": 35,
   "metadata": {},
   "outputs": [
    {
     "data": {
      "application/vnd.jupyter.widget-view+json": {
       "model_id": "0d5001e56f524dbba776998db08e6b3d",
       "version_major": 2,
       "version_minor": 0
      },
      "text/plain": [
       "Summarize dataset:   0%|          | 0/5 [00:00<?, ?it/s]"
      ]
     },
     "metadata": {},
     "output_type": "display_data"
    },
    {
     "data": {
      "application/vnd.jupyter.widget-view+json": {
       "model_id": "dcb50d8ac78a4e7b8ca7de098827c823",
       "version_major": 2,
       "version_minor": 0
      },
      "text/plain": [
       "Generate report structure:   0%|          | 0/1 [00:00<?, ?it/s]"
      ]
     },
     "metadata": {},
     "output_type": "display_data"
    },
    {
     "data": {
      "application/vnd.jupyter.widget-view+json": {
       "model_id": "a57da10ad43c4791a0b5bd7ce771e6c6",
       "version_major": 2,
       "version_minor": 0
      },
      "text/plain": [
       "Render HTML:   0%|          | 0/1 [00:00<?, ?it/s]"
      ]
     },
     "metadata": {},
     "output_type": "display_data"
    },
    {
     "data": {
      "application/vnd.jupyter.widget-view+json": {
       "model_id": "48720e58aaf743d6a1ad9c96f4571018",
       "version_major": 2,
       "version_minor": 0
      },
      "text/plain": [
       "Export report to file:   0%|          | 0/1 [00:00<?, ?it/s]"
      ]
     },
     "metadata": {},
     "output_type": "display_data"
    }
   ],
   "source": [
    "ProfileReport(df, title = 'census data raw report').to_file('data/raw/census_data_raw_report.html')"
   ]
  }
 ],
 "metadata": {
  "kernelspec": {
   "display_name": ".venv",
   "language": "python",
   "name": "python3"
  },
  "language_info": {
   "codemirror_mode": {
    "name": "ipython",
    "version": 3
   },
   "file_extension": ".py",
   "mimetype": "text/x-python",
   "name": "python",
   "nbconvert_exporter": "python",
   "pygments_lexer": "ipython3",
   "version": "3.12.1"
  }
 },
 "nbformat": 4,
 "nbformat_minor": 2
}
