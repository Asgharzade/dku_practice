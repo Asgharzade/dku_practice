{
 "cells": [
  {
   "cell_type": "code",
   "execution_count": null,
   "metadata": {},
   "outputs": [],
   "source": [
    "# Define broader categories for MSA migration status\n",
    "msa_migration_mapping = {\n",
    "    ' ?': 'Not in universe',\n",
    "    ' MSA to MSA': 'MSA movement',\n",
    "    ' NonMSA to nonMSA': 'Non-MSA movement',\n",
    "    ' MSA to nonMSA': 'Mixed movement',\n",
    "    ' NonMSA to MSA': 'Mixed movement',\n",
    "    ' Nonmover': 'No movement',\n",
    "    ' Not in universe': 'Not in universe',\n",
    "    ' Not identifiable': 'Not in universe',\n",
    "    ' Abroad to MSA': 'International',\n",
    "    ' Abroad to nonMSA': 'International'\n",
    "}\n",
    "\n",
    "# Apply the mapping\n",
    "df['migration_code_change_in_msa'] = df['migration_code_change_in_msa'].map(msa_migration_mapping)"
   ]
  },
  {
   "cell_type": "code",
   "execution_count": null,
   "metadata": {},
   "outputs": [],
   "source": [
    "# Define broader household status mapping\n",
    "household_status_mapping = {\n",
    "    # Householder categories\n",
    "    ' Householder': 'Primary Householder',\n",
    "    ' Nonfamily householder': 'Primary Householder',\n",
    "    ' Spouse of householder': 'Primary Householder',\n",
    "    \n",
    "    # Child categories (combining all child categories)\n",
    "    ' Child <18 never marr not in subfamily': 'Child',\n",
    "    ' Child <18 never marr RP of subfamily': 'Child',\n",
    "    ' Child <18 spouse of subfamily RP': 'Child',\n",
    "    ' Child <18 ever marr not in subfamily': 'Child',\n",
    "    ' Child <18 ever marr RP of subfamily': 'Child',\n",
    "    ' Child under 18 of RP of unrel subfamily': 'Child',\n",
    "    ' Child 18+ never marr Not in a subfamily': 'Child',\n",
    "    ' Child 18+ ever marr Not in a subfamily': 'Child',\n",
    "    ' Child 18+ never marr RP of subfamily': 'Child',\n",
    "    ' Child 18+ spouse of subfamily RP': 'Child',\n",
    "    ' Child 18+ ever marr RP of subfamily': 'Child',\n",
    "    \n",
    "    # Grandchild categories (combining all grandchild categories)\n",
    "    ' Grandchild <18 never marr not in subfamily': 'Extended Family',\n",
    "    ' Grandchild <18 never marr child of subfamily RP': 'Extended Family',\n",
    "    ' Grandchild <18 never marr RP of subfamily': 'Extended Family',\n",
    "    ' Grandchild <18 ever marr not in subfamily': 'Extended Family',\n",
    "    ' Grandchild 18+ never marr not in subfamily': 'Extended Family',\n",
    "    ' Grandchild 18+ spouse of subfamily RP': 'Extended Family',\n",
    "    ' Grandchild 18+ never marr RP of subfamily': 'Extended Family',\n",
    "    ' Grandchild 18+ ever marr not in subfamily': 'Extended Family',\n",
    "    ' Grandchild 18+ ever marr RP of subfamily': 'Extended Family',\n",
    "    \n",
    "    # Other categories\n",
    "    ' Secondary individual': 'Other',\n",
    "    ' In group quarters': 'Other',\n",
    "    ' Other Rel 18+ ever marr not in subfamily': 'Extended Family',\n",
    "    ' Other Rel 18+ never marr not in subfamily': 'Extended Family',\n",
    "    ' Other Rel 18+ spouse of subfamily RP': 'Extended Family',\n",
    "    ' Other Rel 18+ never marr RP of subfamily': 'Extended Family',\n",
    "    ' Other Rel 18+ ever marr RP of subfamily': 'Extended Family',\n",
    "    ' Other Rel <18 never marr child of subfamily RP': 'Extended Family',\n",
    "    ' Other Rel <18 never marr not in subfamily': 'Extended Family',\n",
    "    ' Other Rel <18 never married RP of subfamily': 'Extended Family',\n",
    "    ' Other Rel <18 spouse of subfamily RP': 'Extended Family',\n",
    "    ' Other Rel <18 ever marr RP of subfamily': 'Extended Family',\n",
    "    ' Other Rel <18 ever marr not in subfamily': 'Extended Family',\n",
    "    ' RP of unrelated subfamily': 'Other',\n",
    "    ' Spouse of RP of unrelated subfamily': 'Other'\n",
    "}\n",
    "\n",
    "# Apply the mapping\n",
    "df['detailed_household_and_family_stat'] = df['detailed_household_and_family_stat'].map(household_status_mapping)\n"
   ]
  },
  {
   "cell_type": "code",
   "execution_count": null,
   "metadata": {},
   "outputs": [],
   "source": [
    "# Define tax filer status mapping\n",
    "tax_status_mapping = {\n",
    "    ' Nonfiler': 'Non-Filer',\n",
    "    ' Head of household': 'Individual Filer',\n",
    "    ' Single': 'Individual Filer',\n",
    "    ' Joint both under 65': 'Joint Filer',\n",
    "    ' Joint both 65+': 'Joint Filer',\n",
    "    ' Joint one under 65 & one 65+': 'Joint Filer'\n",
    "}\n",
    "\n",
    "# Apply the mapping to create a new column\n",
    "df['tax_filer_stat'] = df['tax_filer_stat'].map(tax_status_mapping)"
   ]
  },
  {
   "cell_type": "code",
   "execution_count": null,
   "metadata": {},
   "outputs": [],
   "source": [
    "# Define broader categories for class of worker\n",
    "class_worker_mapping = {\n",
    "    ' Not in universe': 'Not in universe',\n",
    "    ' Self-employed-not incorporated': 'Self-employed',\n",
    "    ' Self-employed-incorporated': 'Self-employed',\n",
    "    ' Private': 'Private sector',\n",
    "    ' Local government': 'Government',\n",
    "    ' Federal government': 'Government',\n",
    "    ' State government': 'Government',\n",
    "    ' Never worked': 'Not employed',\n",
    "    ' Without pay': 'Not employed'\n",
    "}\n",
    "\n",
    "# Create a new column with broader categories\n",
    "df['class_of_worker'] = df['class_of_worker'].map(class_worker_mapping)"
   ]
  },
  {
   "cell_type": "code",
   "execution_count": null,
   "metadata": {},
   "outputs": [
    {
     "data": {
      "text/plain": [
       "0"
      ]
     },
     "metadata": {},
     "output_type": "display_data"
    }
   ],
   "source": [
    "# Define the broader categories\n",
    "broader_values_mapping = {\n",
    "    ' ?': 'Not in universe',\n",
    "    ' Same county': 'Same area',\n",
    "    ' Nonmover': 'Same area',\n",
    "    ' Different region': 'Different area',\n",
    "    ' Different county same state': 'Different area',\n",
    "    ' Not in universe': 'Not in universe',\n",
    "    ' Different division same region': 'Different area',\n",
    "    ' Abroad': 'Different area',\n",
    "    ' Different state same division': 'Different area'\n",
    "}\n",
    "\n",
    "# Map the values in the 'migration_code_change_in_reg' column\n",
    "df['migration_code_change_in_reg'].map(broader_values_mapping).isnull().sum()"
   ]
  }
 ],
 "metadata": {
  "language_info": {
   "name": "python"
  }
 },
 "nbformat": 4,
 "nbformat_minor": 2
}
