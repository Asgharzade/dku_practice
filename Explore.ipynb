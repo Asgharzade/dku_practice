{
 "cells": [
  {
   "cell_type": "code",
   "execution_count": 1,
   "metadata": {},
   "outputs": [],
   "source": [
    "import os\n",
    "import pandas as pd\n",
    "import pandas as pd\n",
    "import json\n",
    "# from ydata_profiling import ProfileReport\n",
    "# from ydata_profiling.utils.cache import cache_file\n",
    "import seaborn as sns"
   ]
  },
  {
   "cell_type": "code",
   "execution_count": 2,
   "metadata": {},
   "outputs": [],
   "source": [
    "#load metadata\n",
    "with open('data/processing/metadata.json', 'r') as f:\n",
    "    definitions = json.load(f)\n",
    "\n",
    "with open('data/processing/industry-recode.json', 'r') as f:\n",
    "    industry_recode = json.load(f)\n",
    "\n",
    "with open('data/processing/occupasion-recode.json', 'r') as f:\n",
    "    occupasion_recode = json.load(f)\n",
    "\n",
    "with open('data/processing/education-recode.json', 'r') as f:\n",
    "    education_recoder = json.load(f)\n",
    "\n",
    "with open('data/processing/martial-recode.json', 'r') as f:\n",
    "    martial_recoder = json.load(f)\n",
    "\n",
    "with open('data/processing/unemployment-recode.json', 'r') as f:\n",
    "    unemployment_recoder = json.load(f)\n",
    "\n",
    "with open('data/processing/typeemployment-recode.json', 'r') as f:\n",
    "    typeemployment_recoder = json.load(f)\n",
    "\n",
    "with open('data/processing/migrationwithin-recode.json', 'r') as f:\n",
    "    migrationwithin_recoder = json.load(f)\n",
    "\n",
    "with open('data/processing/broader_values_mapping.json', 'r') as f:\n",
    "    broader_values_mapping = json.load(f)\n",
    "\n",
    "with open('data/processing/class_worker_mapping.json', 'r') as f:\n",
    "    class_worker_mapping = json.load(f)\n",
    "\n",
    "with open('data/processing/household_status_mapping.json', 'r') as f:\n",
    "    household_status_mapping = json.load(f)\n",
    "\n",
    "with open('data/processing/msa_migration_mapping.json', 'r') as f:\n",
    "    msa_migration_mapping = json.load(f)\n",
    "\n",
    "with open('data/processing/tax_status_mapping.json', 'r') as f:\n",
    "    tax_status_mapping = json.load(f)\n"
   ]
  },
  {
   "cell_type": "code",
   "execution_count": 10,
   "metadata": {},
   "outputs": [],
   "source": [
    "#load the data\n",
    "df = pd.read_csv('data/raw/census_income_learn.csv', header=None, names=definitions.keys())"
   ]
  },
  {
   "cell_type": "code",
   "execution_count": 11,
   "metadata": {},
   "outputs": [],
   "source": [
    "# cleaning\n",
    "\n",
    "# remove ignore col\n",
    "try: \n",
    "    df.drop(columns=['ignore'], inplace=True)\n",
    "except:\n",
    "    pass\n",
    "\n",
    "# fix year\"\n",
    "if df['year'].min() < 100:\n",
    "    df['year'] = df['year'] + 1900\n",
    "\n",
    "# map industry code\n",
    "if df['detailed_industry_recode'].dtype == 'int64':\n",
    "    df['detailed_industry_recode'] = df['detailed_industry_recode'].astype(str).map(industry_recode)\n",
    "\n",
    "# map occupation code\n",
    "if df['detailed_occupation_recode'].dtype == 'int64':\n",
    "    df['detailed_occupation_recode'] = df['detailed_occupation_recode'].astype(str).map(occupasion_recode)\n",
    "\n",
    "if 'Advanced Degree' not in df['education'].unique():\n",
    "    df['education'] = df['education'].map(education_recoder)\n",
    "\n",
    "if 'Married' not in df['marital_stat'].unique():\n",
    "    df['marital_stat'] = df['marital_stat'].map(martial_recoder)\n",
    "\n",
    "if ' Other job loser' in df['reason_for_unemployment'].unique():\n",
    "    df['reason_for_unemployment'] = df['reason_for_unemployment'].map(unemployment_recoder)\n",
    "\n",
    "if ' Not in labor force' in df['full_or_part_time_employment_stat'].unique():\n",
    "    df['full_or_part_time_employment_stat'] = df['full_or_part_time_employment_stat'].map(typeemployment_recoder)\n",
    "\n",
    "df['migration_prev_res_in_sunbelt'] = df['migration_prev_res_in_sunbelt'].replace(' ?', 'Not in universe')\n",
    "\n",
    "df['migration_code_change_in_reg'] = df['migration_code_change_in_reg'].map(migrationwithin_recoder)\n",
    "\n",
    "# map values \n",
    "\n",
    "df['migration_code_change_in_msa'] = df['migration_code_change_in_msa'].map(msa_migration_mapping)\n",
    "df['detailed_household_and_family_stat'] = df['detailed_household_and_family_stat'].map(household_status_mapping)\n",
    "df['migration_code_change_in_reg'].map(broader_values_mapping)\n",
    "df['tax_filer_stat'] = df['tax_filer_stat'].map(tax_status_mapping)\n",
    "df['class_of_worker'] = df['class_of_worker'].map(class_worker_mapping)\n",
    "\n",
    "# map additional values\n",
    "veteran_status_mapping = {\n",
    "    2: 'Not a Veteran',\n",
    "    1: 'Veteran',\n",
    "    0: 'Not in universe'\n",
    "}\n",
    "df['veterans_benefits'] = df['veterans_benefits'].map(veteran_status_mapping)\n",
    "\n",
    "selfemployed_mapping = {\n",
    "    2: 'No',\n",
    "    1: 'Yes',\n",
    "    0: 'Not in universe'\n",
    "}\n",
    "df['own_business_or_self_employed'] = df['own_business_or_self_employed'].map(selfemployed_mapping)\n",
    "\n",
    "# replacement values\n",
    "df['migration_prev_res_in_sunbelt']=df['migration_prev_res_in_sunbelt'].replace('Not in universe', 'Not in universe').replace(' Not in universe', 'Not in universe')\n",
    "df['live_in_this_house_1_year_ago']=df['live_in_this_house_1_year_ago'].replace(' Not in universe under 1 year old', 'Not in universe')"
   ]
  },
  {
   "cell_type": "markdown",
   "metadata": {},
   "source": [
    "age                                             int64       y\n",
    "class_of_worker                                object       y   map\n",
    "detailed_industry_recode                       object       y   map\n",
    "detailed_occupation_recode                     object       y   map\n",
    "education                                      object       y   map\n",
    "wage_per_hour                                   int64       y\n",
    "enroll_in_edu_inst_last_wk                     object       y\n",
    "marital_stat                                   object       y   map\n",
    "major_industry_code                            object       y\n",
    "major_occupation_code                          object       y\n",
    "race                                           object       y\n",
    "hispanic_origin                                object       n\n",
    "sex                                            object       y\n",
    "member_of_a_labor_union                        object       y\n",
    "reason_for_unemployment                        object       y\n",
    "full_or_part_time_employment_stat              object       y   map       \n",
    "capital_gains                                   int64       y\n",
    "capital_losses                                  int64       y\n",
    "dividends_from_stocks                           int64       y\n",
    "tax_filer_stat                                 object       y   map\n",
    "region_of_previous_residence                   object       y\n",
    "state_of_previous_residence                    object       n     \n",
    "detailed_household_and_family_stat             object       y   map   \n",
    "detailed_household_summary_in_household        object       y   map\n",
    "instance_weight                               float64       n\n",
    "migration_code_change_in_msa                   object       y   map\n",
    "migration_code_change_in_reg                   object       y      \n",
    "migration_code_move_within_reg                 object       n\n",
    "live_in_this_house_1_year_ago                  object       y\n",
    "migration_prev_res_in_sunbelt                  object       y       \n",
    "num_persons_worked_for_employer                 int64       y\n",
    "family_members_under_18                        object       n\n",
    "country_of_birth_father                        object       y\n",
    "country_of_birth_mother                        object       y       \n",
    "country_of_birth_self                          object       y\n",
    "citizenship                                    object       y\n",
    "own_business_or_self_employed                  object       y   map\n",
    "fill_inc_questionnaire_for_veteran's_admin     object       y\n",
    "veterans_benefits                              object       y\n",
    "weeks_worked_in_year                            int64       y\n",
    "year                                            int64       y\n",
    "target                                         object       T"
   ]
  },
  {
   "cell_type": "code",
   "execution_count": 35,
   "metadata": {},
   "outputs": [
    {
     "data": {
      "application/vnd.jupyter.widget-view+json": {
       "model_id": "0d5001e56f524dbba776998db08e6b3d",
       "version_major": 2,
       "version_minor": 0
      },
      "text/plain": [
       "Summarize dataset:   0%|          | 0/5 [00:00<?, ?it/s]"
      ]
     },
     "metadata": {},
     "output_type": "display_data"
    },
    {
     "data": {
      "application/vnd.jupyter.widget-view+json": {
       "model_id": "dcb50d8ac78a4e7b8ca7de098827c823",
       "version_major": 2,
       "version_minor": 0
      },
      "text/plain": [
       "Generate report structure:   0%|          | 0/1 [00:00<?, ?it/s]"
      ]
     },
     "metadata": {},
     "output_type": "display_data"
    },
    {
     "data": {
      "application/vnd.jupyter.widget-view+json": {
       "model_id": "a57da10ad43c4791a0b5bd7ce771e6c6",
       "version_major": 2,
       "version_minor": 0
      },
      "text/plain": [
       "Render HTML:   0%|          | 0/1 [00:00<?, ?it/s]"
      ]
     },
     "metadata": {},
     "output_type": "display_data"
    },
    {
     "data": {
      "application/vnd.jupyter.widget-view+json": {
       "model_id": "48720e58aaf743d6a1ad9c96f4571018",
       "version_major": 2,
       "version_minor": 0
      },
      "text/plain": [
       "Export report to file:   0%|          | 0/1 [00:00<?, ?it/s]"
      ]
     },
     "metadata": {},
     "output_type": "display_data"
    }
   ],
   "source": [
    "ProfileReport(df, title = 'census data raw report').to_file('data/raw/census_data_raw_report.html')"
   ]
  }
 ],
 "metadata": {
  "kernelspec": {
   "display_name": ".venv",
   "language": "python",
   "name": "python3"
  },
  "language_info": {
   "codemirror_mode": {
    "name": "ipython",
    "version": 3
   },
   "file_extension": ".py",
   "mimetype": "text/x-python",
   "name": "python",
   "nbconvert_exporter": "python",
   "pygments_lexer": "ipython3",
   "version": "3.12.1"
  }
 },
 "nbformat": 4,
 "nbformat_minor": 2
}
