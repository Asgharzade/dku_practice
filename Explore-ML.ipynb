{
 "cells": [
  {
   "cell_type": "code",
   "execution_count": 1,
   "metadata": {},
   "outputs": [],
   "source": [
    "import pandas as pd\n",
    "import seaborn as sns\n",
    "import numpy as np\n",
    "from sklearn.model_selection import train_test_split\n",
    "from sklearn.preprocessing import StandardScaler\n",
    "import matplotlib.pyplot as plt\n"
   ]
  },
  {
   "cell_type": "code",
   "execution_count": 2,
   "metadata": {},
   "outputs": [],
   "source": [
    "# load data\n",
    "df = pd.read_csv('data/processed/census_income_learn.csv')"
   ]
  },
  {
   "cell_type": "markdown",
   "metadata": {},
   "source": [
    "| Column Name                                 | Data Type | Required | Mapping | Post Processing|\n",
    "|---------------------------------------------|-----------|----------|---------|----------------|\n",
    "| age                                         | int64     | y        |         |ok, only over 18    |\n",
    "| class_of_worker                             | object    | y        | map     |ok, keep only 5 cats|\n",
    "| detailed_industry_recode                    | object    | y        | map     |no,high corr with class_of_worker|\n",
    "| detailed_occupation_recode                  | object    | y        | map     |no,high corr with class_of_worker|\n",
    "| education                                   | object    | y        | map     |ok|\n",
    "| wage_per_hour                               | int64     | y        |         |ok|\n",
    "| enroll_in_edu_inst_last_wk                  | object    | y        |         |ok|\n",
    "| marital_stat                                | object    | y        | map     |ok|\n",
    "| major_industry_code                         | object    | y        |         |ok|\n",
    "| major_occupation_code                       | object    | y        |         |no|\n",
    "| race                                        | object    | y        |         |ok|\n",
    "| hispanic_origin                             | object    | n        |         |not relative|\n",
    "| sex                                         | object    | y        |         |ok, might be sensitive|\n",
    "| member_of_a_labor_union                     | object    | y        |         |ok, just keep 'Yes'|\n",
    "| reason_for_unemployment                     | object    | y        |         |ok|\n",
    "| full_or_part_time_employment_stat           | object    | y        | map     |ok|\n",
    "| capital_gains                               | int64     | y        |         |ok|\n",
    "| capital_losses                              | int64     | y        |         |ok|\n",
    "| dividends_from_stocks                       | int64     | y        |         |ok|\n",
    "| tax_filer_stat                              | object    | y        | map     |ok|\n",
    "| region_of_previous_residence                | object    | y        |         |ok. just four cats|\n",
    "| state_of_previous_residence                 | object    | n        |         |no, too many cats|\n",
    "| detailed_household_and_family_stat          | object    | y        | map     |ok|\n",
    "| detailed_household_summary_in_household     | object    | y        | map     |no, too many cats|\n",
    "| instance_weight                             | float64   | n        |         |no, instructed|\n",
    "| migration_code_change_in_msa                | object    | y        | map     |no, high corr with move_reg|\n",
    "| migration_code_change_in_reg                | object    | y        |         |ok, only two cats|\n",
    "| migration_code_move_within_reg              | object    | n        |         |no, high corr with move_reg|\n",
    "| live_in_this_house_1_year_ago               | object    | y        |         |ok|\n",
    "| migration_prev_res_in_sunbelt               | object    | y        |         |ok|\n",
    "| num_persons_worked_for_employer             | int64     | y        |         |ok|\n",
    "| family_members_under_18                     | object    | n        |         |ok|\n",
    "| country_of_birth_father                     | object    | y        |         |no, high corr with citizenship|\n",
    "| country_of_birth_mother                     | object    | y        |         |no, high corr with citizenship|\n",
    "| country_of_birth_self                       | object    | y        |         |no, high corr with citizenship|\n",
    "| citizenship                                 | object    | y        |         |ok|\n",
    "| own_business_or_self_employed               | object    | y        | map     |ok|\n",
    "| fill_inc_questionnaire_for_veterans_admin   | object    | y        |         |no, using veterans_benefits instead|\n",
    "| veterans_benefits                           | object    | y        |         |ok|\n",
    "| weeks_worked_in_year                        | int64     | y        |         |ok|\n",
    "| year                                        | int64     | y        |         |not related|\n",
    "| target                                      | object    | T        |         |Target|"
   ]
  },
  {
   "cell_type": "code",
   "execution_count": 3,
   "metadata": {
    "vscode": {
     "languageId": "ruby"
    }
   },
   "outputs": [],
   "source": [
    "features_ok = [\n",
    "    'age',\n",
    "    'class_of_worker',\n",
    "    'education',\n",
    "    'wage_per_hour',\n",
    "    'enroll_in_edu_inst_last_wk',\n",
    "    'marital_stat',\n",
    "    'major_industry_code',\n",
    "    'race',\n",
    "    'sex',\n",
    "    'member_of_a_labor_union',\n",
    "    'reason_for_unemployment',\n",
    "    'full_or_part_time_employment_stat',\n",
    "    'capital_gains',\n",
    "    'capital_losses',\n",
    "    'dividends_from_stocks',\n",
    "    'tax_filer_stat',\n",
    "    'region_of_previous_residence',\n",
    "    'detailed_household_and_family_stat',\n",
    "    'migration_code_change_in_reg',\n",
    "    'live_in_this_house_1_year_ago',\n",
    "    'migration_prev_res_in_sunbelt',\n",
    "    'num_persons_worked_for_employer',\n",
    "    'family_members_under_18',\n",
    "    'citizenship',\n",
    "    'own_business_or_self_employed',\n",
    "    'veterans_benefits',\n",
    "    'weeks_worked_in_year',\n",
    "    'target'\n",
    "]\n",
    "\n",
    "df_selected = df[features_ok]"
   ]
  },
  {
   "cell_type": "code",
   "execution_count": 4,
   "metadata": {},
   "outputs": [
    {
     "name": "stdout",
     "output_type": "stream",
     "text": [
      "Number of numeric columns: 8\n",
      "\n",
      "Numeric columns:\n",
      "['age', 'wage_per_hour', 'capital_gains', 'capital_losses', 'dividends_from_stocks', 'num_persons_worked_for_employer', 'weeks_worked_in_year', 'target']\n"
     ]
    }
   ],
   "source": [
    "# select the numerical columns (non-object)\n",
    "numeric_cols = df_selected.select_dtypes(exclude=['object']).columns\n",
    "print(f\"Number of numeric columns: {len(numeric_cols)}\")\n",
    "print(\"\\nNumeric columns:\")\n",
    "print(numeric_cols.tolist())\n",
    "df_numeric = df_selected[numeric_cols]"
   ]
  },
  {
   "cell_type": "code",
   "execution_count": 5,
   "metadata": {},
   "outputs": [
    {
     "name": "stdout",
     "output_type": "stream",
     "text": [
      "Original shape: (196294, 28)\n",
      "Binary shape: (196294, 99)\n",
      "\n",
      "Binary columns:\n",
      "['class_of_worker_government', 'class_of_worker_not_employed', 'class_of_worker_not_in_universe', 'class_of_worker_private_sector', 'class_of_worker_self-employed', 'education_advanced_degree', 'education_below_high_school', 'education_children', 'education_college_graduate', 'education_high_school_graduate', 'education_some_college', 'enroll_in_edu_inst_last_wk__college_or_university', 'enroll_in_edu_inst_last_wk__high_school', 'enroll_in_edu_inst_last_wk__not_in_universe', 'marital_stat_divorced', 'marital_stat_married', 'marital_stat_married-spouse_absent', 'marital_stat_never_married', 'marital_stat_separated', 'marital_stat_widowed', 'major_industry_code__agriculture', 'major_industry_code__armed_forces', 'major_industry_code__business_and_repair_services', 'major_industry_code__communications', 'major_industry_code__construction', 'major_industry_code__education', 'major_industry_code__entertainment', 'major_industry_code__finance_insurance_and_real_estate', 'major_industry_code__forestry_and_fisheries', 'major_industry_code__hospital_services', 'major_industry_code__manufacturing-durable_goods', 'major_industry_code__manufacturing-nondurable_goods', 'major_industry_code__medical_except_hospital', 'major_industry_code__mining', 'major_industry_code__not_in_universe_or_children', 'major_industry_code__other_professional_services', 'major_industry_code__personal_services_except_private_hh', 'major_industry_code__private_household_services', 'major_industry_code__public_administration', 'major_industry_code__retail_trade', 'major_industry_code__social_services', 'major_industry_code__transportation', 'major_industry_code__utilities_and_sanitary_services', 'major_industry_code__wholesale_trade', 'race__amer_indian_aleut_or_eskimo', 'race__asian_or_pacific_islander', 'race__black', 'race__other', 'race__white', 'sex__female', 'sex__male', 'member_of_a_labor_union__no', 'member_of_a_labor_union__not_in_universe', 'member_of_a_labor_union__yes', 'reason_for_unemployment_job_leaver', 'reason_for_unemployment_job_loser', 'reason_for_unemployment_new_entrant', 'reason_for_unemployment_not_in_universe', 'reason_for_unemployment_re-entrant', 'full_or_part_time_employment_stat_children_or_armed_forces', 'full_or_part_time_employment_stat_fte', 'full_or_part_time_employment_stat_not_employed', 'full_or_part_time_employment_stat_pte', 'tax_filer_stat_individual_filer', 'tax_filer_stat_joint_filer', 'tax_filer_stat_non-filer', 'region_of_previous_residence__abroad', 'region_of_previous_residence__midwest', 'region_of_previous_residence__northeast', 'region_of_previous_residence__not_in_universe', 'region_of_previous_residence__south', 'region_of_previous_residence__west', 'detailed_household_and_family_stat_child', 'detailed_household_and_family_stat_extended_family', 'detailed_household_and_family_stat_other', 'detailed_household_and_family_stat_primary_householder', 'migration_code_change_in_reg_different_area', 'migration_code_change_in_reg_not_in_universe', 'migration_code_change_in_reg_same_area', 'live_in_this_house_1_year_ago__no', 'live_in_this_house_1_year_ago__yes', 'live_in_this_house_1_year_ago_not_in_universe', 'migration_prev_res_in_sunbelt__no', 'migration_prev_res_in_sunbelt__yes', 'migration_prev_res_in_sunbelt_not_in_universe', 'family_members_under_18__both_parents_present', 'family_members_under_18__father_only_present', 'family_members_under_18__mother_only_present', 'family_members_under_18__neither_parent_present', 'family_members_under_18__not_in_universe', 'citizenship_foreign', 'citizenship_native', 'citizenship_naturalized', 'own_business_or_self_employed_no', 'own_business_or_self_employed_not_in_universe', 'own_business_or_self_employed_yes', 'veterans_benefits_not_a_veteran', 'veterans_benefits_not_in_universe', 'veterans_benefits_veteran']\n"
     ]
    }
   ],
   "source": [
    "# get categorical columns\n",
    "categorical_cols = df_selected.select_dtypes(include=['object']).columns\n",
    "\n",
    "# convert categorical columns to binary using get_dummies\n",
    "df_binary = pd.get_dummies(df_selected[categorical_cols], drop_first=False)\n",
    "\n",
    "# convert column names to lowercase and replace spaces with underscores\n",
    "df_binary.columns = [x.lower() for x in df_binary.columns.str.replace(' ', '_')]\n",
    "\n",
    "print(f\"Original shape: {df_selected.shape}\")\n",
    "print(f\"Binary shape: {df_binary.shape}\")\n",
    "print(\"\\nBinary columns:\")\n",
    "print(df_binary.columns.tolist())"
   ]
  },
  {
   "cell_type": "code",
   "execution_count": 6,
   "metadata": {
    "vscode": {
     "languageId": "ruby"
    }
   },
   "outputs": [],
   "source": [
    "bin_cols_to_keep = [\n",
    "    'class_of_worker_government',\n",
    "    'class_of_worker_not_employed',\n",
    "    'class_of_worker_private_sector',\n",
    "    'class_of_worker_self-employed',\n",
    "    'education_advanced_degree',\n",
    "    'education_below_high_school',\n",
    "    'education_college_graduate',\n",
    "    'education_high_school_graduate',\n",
    "    'education_some_college',\n",
    "    'enroll_in_edu_inst_last_wk__college_or_university',\n",
    "    'enroll_in_edu_inst_last_wk__high_school',\n",
    "    'marital_stat_divorced',\n",
    "    'marital_stat_married',\n",
    "    'marital_stat_never_married',\n",
    "    'marital_stat_separated',\n",
    "    'marital_stat_widowed',\n",
    "    'major_industry_code__agriculture',\n",
    "    'major_industry_code__armed_forces',\n",
    "    'major_industry_code__business_and_repair_services',\n",
    "    'major_industry_code__communications',\n",
    "    'major_industry_code__construction',\n",
    "    'major_industry_code__education',\n",
    "    'major_industry_code__entertainment',\n",
    "    'major_industry_code__finance_insurance_and_real_estate',\n",
    "    'major_industry_code__forestry_and_fisheries',\n",
    "    'major_industry_code__hospital_services',\n",
    "    'major_industry_code__manufacturing-durable_goods',\n",
    "    'major_industry_code__manufacturing-nondurable_goods',\n",
    "    'major_industry_code__medical_except_hospital',\n",
    "    'major_industry_code__mining',\n",
    "    'major_industry_code__other_professional_services',\n",
    "    'major_industry_code__personal_services_except_private_hh',\n",
    "    'major_industry_code__private_household_services',\n",
    "    'major_industry_code__public_administration',\n",
    "    'major_industry_code__retail_trade',\n",
    "    'major_industry_code__social_services',\n",
    "    'major_industry_code__transportation',\n",
    "    'major_industry_code__utilities_and_sanitary_services',\n",
    "    'major_industry_code__wholesale_trade',\n",
    "    'race__amer_indian_aleut_or_eskimo',\n",
    "    'race__asian_or_pacific_islander',\n",
    "    'race__black',\n",
    "    'race__white',\n",
    "    'sex__male',\n",
    "    'member_of_a_labor_union__no',\n",
    "    'member_of_a_labor_union__yes',\n",
    "    'reason_for_unemployment_job_leaver',\n",
    "    'reason_for_unemployment_job_loser',\n",
    "    'reason_for_unemployment_new_entrant',\n",
    "    'reason_for_unemployment_re-entrant',\n",
    "    'full_or_part_time_employment_stat_fte',\n",
    "    'full_or_part_time_employment_stat_not_employed',\n",
    "    'full_or_part_time_employment_stat_pte',\n",
    "    'tax_filer_stat_individual_filer',\n",
    "    'tax_filer_stat_non-filer',\n",
    "    'region_of_previous_residence__abroad',\n",
    "    'region_of_previous_residence__midwest',\n",
    "    'region_of_previous_residence__northeast',\n",
    "    'region_of_previous_residence__south',\n",
    "    'region_of_previous_residence__west',\n",
    "    'detailed_household_and_family_stat_child',\n",
    "    'detailed_household_and_family_stat_extended_family',\n",
    "    'detailed_household_and_family_stat_primary_householder',\n",
    "    'migration_code_change_in_reg_different_area',\n",
    "    'migration_code_change_in_reg_same_area',\n",
    "    'live_in_this_house_1_year_ago__no',\n",
    "    'live_in_this_house_1_year_ago__yes',\n",
    "    'migration_prev_res_in_sunbelt__no',\n",
    "    'migration_prev_res_in_sunbelt__yes',\n",
    "    'family_members_under_18__both_parents_present',\n",
    "    'family_members_under_18__father_only_present',\n",
    "    'family_members_under_18__mother_only_present',\n",
    "    'family_members_under_18__neither_parent_present',\n",
    "    'citizenship_foreign',\n",
    "    'citizenship_native',\n",
    "    'own_business_or_self_employed_no',\n",
    "    'own_business_or_self_employed_yes',\n",
    "    'veterans_benefits_not_a_veteran',\n",
    "    'veterans_benefits_veteran'\n",
    "]\n"
   ]
  },
  {
   "cell_type": "code",
   "execution_count": null,
   "metadata": {
    "vscode": {
     "languageId": "ruby"
    }
   },
   "outputs": [],
   "source": []
  },
  {
   "cell_type": "code",
   "execution_count": 7,
   "metadata": {
    "vscode": {
     "languageId": "ruby"
    }
   },
   "outputs": [],
   "source": [
    "# select only the bin columns that are in the list of columns to keep\n",
    "df_binary = df_binary[bin_cols_to_keep]\n"
   ]
  },
  {
   "cell_type": "code",
   "execution_count": 11,
   "metadata": {
    "vscode": {
     "languageId": "ruby"
    }
   },
   "outputs": [
    {
     "data": {
      "text/html": [
       "<div>\n",
       "<style scoped>\n",
       "    .dataframe tbody tr th:only-of-type {\n",
       "        vertical-align: middle;\n",
       "    }\n",
       "\n",
       "    .dataframe tbody tr th {\n",
       "        vertical-align: top;\n",
       "    }\n",
       "\n",
       "    .dataframe thead th {\n",
       "        text-align: right;\n",
       "    }\n",
       "</style>\n",
       "<table border=\"1\" class=\"dataframe\">\n",
       "  <thead>\n",
       "    <tr style=\"text-align: right;\">\n",
       "      <th></th>\n",
       "      <th>age</th>\n",
       "      <th>wage_per_hour</th>\n",
       "      <th>capital_gains</th>\n",
       "      <th>capital_losses</th>\n",
       "      <th>dividends_from_stocks</th>\n",
       "      <th>num_persons_worked_for_employer</th>\n",
       "      <th>weeks_worked_in_year</th>\n",
       "      <th>target</th>\n",
       "      <th>class_of_worker_government</th>\n",
       "      <th>class_of_worker_not_employed</th>\n",
       "      <th>...</th>\n",
       "      <th>family_members_under_18__both_parents_present</th>\n",
       "      <th>family_members_under_18__father_only_present</th>\n",
       "      <th>family_members_under_18__mother_only_present</th>\n",
       "      <th>family_members_under_18__neither_parent_present</th>\n",
       "      <th>citizenship_foreign</th>\n",
       "      <th>citizenship_native</th>\n",
       "      <th>own_business_or_self_employed_no</th>\n",
       "      <th>own_business_or_self_employed_yes</th>\n",
       "      <th>veterans_benefits_not_a_veteran</th>\n",
       "      <th>veterans_benefits_veteran</th>\n",
       "    </tr>\n",
       "  </thead>\n",
       "  <tbody>\n",
       "    <tr>\n",
       "      <th>0</th>\n",
       "      <td>73</td>\n",
       "      <td>0</td>\n",
       "      <td>0</td>\n",
       "      <td>0</td>\n",
       "      <td>0</td>\n",
       "      <td>0</td>\n",
       "      <td>0</td>\n",
       "      <td>1</td>\n",
       "      <td>False</td>\n",
       "      <td>False</td>\n",
       "      <td>...</td>\n",
       "      <td>False</td>\n",
       "      <td>False</td>\n",
       "      <td>False</td>\n",
       "      <td>False</td>\n",
       "      <td>False</td>\n",
       "      <td>True</td>\n",
       "      <td>False</td>\n",
       "      <td>False</td>\n",
       "      <td>True</td>\n",
       "      <td>False</td>\n",
       "    </tr>\n",
       "    <tr>\n",
       "      <th>1</th>\n",
       "      <td>58</td>\n",
       "      <td>0</td>\n",
       "      <td>0</td>\n",
       "      <td>0</td>\n",
       "      <td>0</td>\n",
       "      <td>1</td>\n",
       "      <td>52</td>\n",
       "      <td>1</td>\n",
       "      <td>False</td>\n",
       "      <td>False</td>\n",
       "      <td>...</td>\n",
       "      <td>False</td>\n",
       "      <td>False</td>\n",
       "      <td>False</td>\n",
       "      <td>False</td>\n",
       "      <td>False</td>\n",
       "      <td>True</td>\n",
       "      <td>False</td>\n",
       "      <td>False</td>\n",
       "      <td>True</td>\n",
       "      <td>False</td>\n",
       "    </tr>\n",
       "    <tr>\n",
       "      <th>2</th>\n",
       "      <td>18</td>\n",
       "      <td>0</td>\n",
       "      <td>0</td>\n",
       "      <td>0</td>\n",
       "      <td>0</td>\n",
       "      <td>0</td>\n",
       "      <td>0</td>\n",
       "      <td>1</td>\n",
       "      <td>False</td>\n",
       "      <td>False</td>\n",
       "      <td>...</td>\n",
       "      <td>False</td>\n",
       "      <td>False</td>\n",
       "      <td>False</td>\n",
       "      <td>False</td>\n",
       "      <td>True</td>\n",
       "      <td>False</td>\n",
       "      <td>False</td>\n",
       "      <td>False</td>\n",
       "      <td>True</td>\n",
       "      <td>False</td>\n",
       "    </tr>\n",
       "    <tr>\n",
       "      <th>3</th>\n",
       "      <td>9</td>\n",
       "      <td>0</td>\n",
       "      <td>0</td>\n",
       "      <td>0</td>\n",
       "      <td>0</td>\n",
       "      <td>0</td>\n",
       "      <td>0</td>\n",
       "      <td>1</td>\n",
       "      <td>False</td>\n",
       "      <td>False</td>\n",
       "      <td>...</td>\n",
       "      <td>True</td>\n",
       "      <td>False</td>\n",
       "      <td>False</td>\n",
       "      <td>False</td>\n",
       "      <td>False</td>\n",
       "      <td>True</td>\n",
       "      <td>False</td>\n",
       "      <td>False</td>\n",
       "      <td>False</td>\n",
       "      <td>False</td>\n",
       "    </tr>\n",
       "    <tr>\n",
       "      <th>4</th>\n",
       "      <td>10</td>\n",
       "      <td>0</td>\n",
       "      <td>0</td>\n",
       "      <td>0</td>\n",
       "      <td>0</td>\n",
       "      <td>0</td>\n",
       "      <td>0</td>\n",
       "      <td>1</td>\n",
       "      <td>False</td>\n",
       "      <td>False</td>\n",
       "      <td>...</td>\n",
       "      <td>True</td>\n",
       "      <td>False</td>\n",
       "      <td>False</td>\n",
       "      <td>False</td>\n",
       "      <td>False</td>\n",
       "      <td>True</td>\n",
       "      <td>False</td>\n",
       "      <td>False</td>\n",
       "      <td>False</td>\n",
       "      <td>False</td>\n",
       "    </tr>\n",
       "  </tbody>\n",
       "</table>\n",
       "<p>5 rows × 87 columns</p>\n",
       "</div>"
      ],
      "text/plain": [
       "   age  wage_per_hour  capital_gains  capital_losses  dividends_from_stocks  \\\n",
       "0   73              0              0               0                      0   \n",
       "1   58              0              0               0                      0   \n",
       "2   18              0              0               0                      0   \n",
       "3    9              0              0               0                      0   \n",
       "4   10              0              0               0                      0   \n",
       "\n",
       "   num_persons_worked_for_employer  weeks_worked_in_year  target  \\\n",
       "0                                0                     0       1   \n",
       "1                                1                    52       1   \n",
       "2                                0                     0       1   \n",
       "3                                0                     0       1   \n",
       "4                                0                     0       1   \n",
       "\n",
       "   class_of_worker_government  class_of_worker_not_employed  ...  \\\n",
       "0                       False                         False  ...   \n",
       "1                       False                         False  ...   \n",
       "2                       False                         False  ...   \n",
       "3                       False                         False  ...   \n",
       "4                       False                         False  ...   \n",
       "\n",
       "   family_members_under_18__both_parents_present  \\\n",
       "0                                          False   \n",
       "1                                          False   \n",
       "2                                          False   \n",
       "3                                           True   \n",
       "4                                           True   \n",
       "\n",
       "   family_members_under_18__father_only_present  \\\n",
       "0                                         False   \n",
       "1                                         False   \n",
       "2                                         False   \n",
       "3                                         False   \n",
       "4                                         False   \n",
       "\n",
       "   family_members_under_18__mother_only_present  \\\n",
       "0                                         False   \n",
       "1                                         False   \n",
       "2                                         False   \n",
       "3                                         False   \n",
       "4                                         False   \n",
       "\n",
       "   family_members_under_18__neither_parent_present  citizenship_foreign  \\\n",
       "0                                            False                False   \n",
       "1                                            False                False   \n",
       "2                                            False                 True   \n",
       "3                                            False                False   \n",
       "4                                            False                False   \n",
       "\n",
       "   citizenship_native  own_business_or_self_employed_no  \\\n",
       "0                True                             False   \n",
       "1                True                             False   \n",
       "2               False                             False   \n",
       "3                True                             False   \n",
       "4                True                             False   \n",
       "\n",
       "   own_business_or_self_employed_yes  veterans_benefits_not_a_veteran  \\\n",
       "0                              False                             True   \n",
       "1                              False                             True   \n",
       "2                              False                             True   \n",
       "3                              False                            False   \n",
       "4                              False                            False   \n",
       "\n",
       "   veterans_benefits_veteran  \n",
       "0                      False  \n",
       "1                      False  \n",
       "2                      False  \n",
       "3                      False  \n",
       "4                      False  \n",
       "\n",
       "[5 rows x 87 columns]"
      ]
     },
     "execution_count": 11,
     "metadata": {},
     "output_type": "execute_result"
    }
   ],
   "source": []
  },
  {
   "cell_type": "code",
   "execution_count": 9,
   "metadata": {
    "vscode": {
     "languageId": "ruby"
    }
   },
   "outputs": [
    {
     "name": "stdout",
     "output_type": "stream",
     "text": [
      "final shape: (196294, 87)\n"
     ]
    }
   ],
   "source": [
    "print('final shape:', df_prepared.shape)"
   ]
  },
  {
   "cell_type": "code",
   "execution_count": 13,
   "metadata": {
    "vscode": {
     "languageId": "ruby"
    }
   },
   "outputs": [
    {
     "data": {
      "text/html": [
       "<div>\n",
       "<style scoped>\n",
       "    .dataframe tbody tr th:only-of-type {\n",
       "        vertical-align: middle;\n",
       "    }\n",
       "\n",
       "    .dataframe tbody tr th {\n",
       "        vertical-align: top;\n",
       "    }\n",
       "\n",
       "    .dataframe thead th {\n",
       "        text-align: right;\n",
       "    }\n",
       "</style>\n",
       "<table border=\"1\" class=\"dataframe\">\n",
       "  <thead>\n",
       "    <tr style=\"text-align: right;\">\n",
       "      <th></th>\n",
       "      <th>0</th>\n",
       "      <th>1</th>\n",
       "      <th>2</th>\n",
       "      <th>3</th>\n",
       "      <th>4</th>\n",
       "    </tr>\n",
       "  </thead>\n",
       "  <tbody>\n",
       "    <tr>\n",
       "      <th>age</th>\n",
       "      <td>73</td>\n",
       "      <td>58</td>\n",
       "      <td>18</td>\n",
       "      <td>9</td>\n",
       "      <td>10</td>\n",
       "    </tr>\n",
       "    <tr>\n",
       "      <th>wage_per_hour</th>\n",
       "      <td>0</td>\n",
       "      <td>0</td>\n",
       "      <td>0</td>\n",
       "      <td>0</td>\n",
       "      <td>0</td>\n",
       "    </tr>\n",
       "    <tr>\n",
       "      <th>capital_gains</th>\n",
       "      <td>0</td>\n",
       "      <td>0</td>\n",
       "      <td>0</td>\n",
       "      <td>0</td>\n",
       "      <td>0</td>\n",
       "    </tr>\n",
       "    <tr>\n",
       "      <th>capital_losses</th>\n",
       "      <td>0</td>\n",
       "      <td>0</td>\n",
       "      <td>0</td>\n",
       "      <td>0</td>\n",
       "      <td>0</td>\n",
       "    </tr>\n",
       "    <tr>\n",
       "      <th>dividends_from_stocks</th>\n",
       "      <td>0</td>\n",
       "      <td>0</td>\n",
       "      <td>0</td>\n",
       "      <td>0</td>\n",
       "      <td>0</td>\n",
       "    </tr>\n",
       "    <tr>\n",
       "      <th>...</th>\n",
       "      <td>...</td>\n",
       "      <td>...</td>\n",
       "      <td>...</td>\n",
       "      <td>...</td>\n",
       "      <td>...</td>\n",
       "    </tr>\n",
       "    <tr>\n",
       "      <th>citizenship_native</th>\n",
       "      <td>True</td>\n",
       "      <td>True</td>\n",
       "      <td>False</td>\n",
       "      <td>True</td>\n",
       "      <td>True</td>\n",
       "    </tr>\n",
       "    <tr>\n",
       "      <th>own_business_or_self_employed_no</th>\n",
       "      <td>False</td>\n",
       "      <td>False</td>\n",
       "      <td>False</td>\n",
       "      <td>False</td>\n",
       "      <td>False</td>\n",
       "    </tr>\n",
       "    <tr>\n",
       "      <th>own_business_or_self_employed_yes</th>\n",
       "      <td>False</td>\n",
       "      <td>False</td>\n",
       "      <td>False</td>\n",
       "      <td>False</td>\n",
       "      <td>False</td>\n",
       "    </tr>\n",
       "    <tr>\n",
       "      <th>veterans_benefits_not_a_veteran</th>\n",
       "      <td>True</td>\n",
       "      <td>True</td>\n",
       "      <td>True</td>\n",
       "      <td>False</td>\n",
       "      <td>False</td>\n",
       "    </tr>\n",
       "    <tr>\n",
       "      <th>veterans_benefits_veteran</th>\n",
       "      <td>False</td>\n",
       "      <td>False</td>\n",
       "      <td>False</td>\n",
       "      <td>False</td>\n",
       "      <td>False</td>\n",
       "    </tr>\n",
       "  </tbody>\n",
       "</table>\n",
       "<p>87 rows × 5 columns</p>\n",
       "</div>"
      ],
      "text/plain": [
       "                                       0      1      2      3      4\n",
       "age                                   73     58     18      9     10\n",
       "wage_per_hour                          0      0      0      0      0\n",
       "capital_gains                          0      0      0      0      0\n",
       "capital_losses                         0      0      0      0      0\n",
       "dividends_from_stocks                  0      0      0      0      0\n",
       "...                                  ...    ...    ...    ...    ...\n",
       "citizenship_native                  True   True  False   True   True\n",
       "own_business_or_self_employed_no   False  False  False  False  False\n",
       "own_business_or_self_employed_yes  False  False  False  False  False\n",
       "veterans_benefits_not_a_veteran     True   True   True  False  False\n",
       "veterans_benefits_veteran          False  False  False  False  False\n",
       "\n",
       "[87 rows x 5 columns]"
      ]
     },
     "execution_count": 13,
     "metadata": {},
     "output_type": "execute_result"
    }
   ],
   "source": [
    "df_prepared.head().T"
   ]
  },
  {
   "cell_type": "code",
   "execution_count": 14,
   "metadata": {
    "vscode": {
     "languageId": "ruby"
    }
   },
   "outputs": [
    {
     "data": {
      "text/plain": [
       "array([1, 1, 1, ..., 1, 1, 1], dtype=int64)"
      ]
     },
     "execution_count": 14,
     "metadata": {},
     "output_type": "execute_result"
    }
   ],
   "source": [
    "df_prepared['target'].to_numpy()"
   ]
  },
  {
   "cell_type": "code",
   "execution_count": null,
   "metadata": {
    "vscode": {
     "languageId": "ruby"
    }
   },
   "outputs": [],
   "source": []
  },
  {
   "cell_type": "code",
   "execution_count": 1,
   "metadata": {
    "vscode": {
     "languageId": "ruby"
    }
   },
   "outputs": [
    {
     "name": "stdout",
     "output_type": "stream",
     "text": [
      "Train data: ###############################\n",
      "Number of numeric columns: 8\n",
      "Original shape: (196294, 28)\n",
      "Binary shape: (196294, 99)\n",
      "X_train shape: (196294, 86)\n",
      "\n",
      "Test data: ###############################\n",
      "Number of numeric columns: 8\n",
      "Original shape: (98879, 28)\n",
      "Binary shape: (98879, 99)\n",
      "X_test shape: (98879, 86)\n"
     ]
    }
   ],
   "source": []
  },
  {
   "cell_type": "code",
   "execution_count": 7,
   "metadata": {
    "vscode": {
     "languageId": "ruby"
    }
   },
   "outputs": [],
   "source": []
  },
  {
   "cell_type": "code",
   "execution_count": 10,
   "metadata": {
    "vscode": {
     "languageId": "ruby"
    }
   },
   "outputs": [
    {
     "ename": "ModuleNotFoundError",
     "evalue": "No module named 'imblearn'",
     "output_type": "error",
     "traceback": [
      "\u001b[1;31m---------------------------------------------------------------------------\u001b[0m",
      "\u001b[1;31mModuleNotFoundError\u001b[0m                       Traceback (most recent call last)",
      "Cell \u001b[1;32mIn[10], line 3\u001b[0m\n\u001b[0;32m      1\u001b[0m \u001b[38;5;28;01mfrom\u001b[39;00m\u001b[38;5;250m \u001b[39m\u001b[38;5;21;01msklearn\u001b[39;00m\u001b[38;5;21;01m.\u001b[39;00m\u001b[38;5;21;01mensemble\u001b[39;00m\u001b[38;5;250m \u001b[39m\u001b[38;5;28;01mimport\u001b[39;00m RandomForestClassifier\n\u001b[0;32m      2\u001b[0m \u001b[38;5;28;01mfrom\u001b[39;00m\u001b[38;5;250m \u001b[39m\u001b[38;5;21;01msklearn\u001b[39;00m\u001b[38;5;21;01m.\u001b[39;00m\u001b[38;5;21;01mmetrics\u001b[39;00m\u001b[38;5;250m \u001b[39m\u001b[38;5;28;01mimport\u001b[39;00m classification_report, confusion_matrix\n\u001b[1;32m----> 3\u001b[0m \u001b[38;5;28;01mfrom\u001b[39;00m\u001b[38;5;250m \u001b[39m\u001b[38;5;21;01mimblearn\u001b[39;00m\u001b[38;5;21;01m.\u001b[39;00m\u001b[38;5;21;01mover_sampling\u001b[39;00m\u001b[38;5;250m \u001b[39m\u001b[38;5;28;01mimport\u001b[39;00m SMOTENC\n\u001b[0;32m      4\u001b[0m \u001b[38;5;28;01mimport\u001b[39;00m\u001b[38;5;250m \u001b[39m\u001b[38;5;21;01mnumpy\u001b[39;00m\u001b[38;5;250m \u001b[39m\u001b[38;5;28;01mas\u001b[39;00m\u001b[38;5;250m \u001b[39m\u001b[38;5;21;01mnp\u001b[39;00m\n\u001b[0;32m      5\u001b[0m \u001b[38;5;28;01mimport\u001b[39;00m\u001b[38;5;250m \u001b[39m\u001b[38;5;21;01mpandas\u001b[39;00m\u001b[38;5;250m \u001b[39m\u001b[38;5;28;01mas\u001b[39;00m\u001b[38;5;250m \u001b[39m\u001b[38;5;21;01mpd\u001b[39;00m\n",
      "\u001b[1;31mModuleNotFoundError\u001b[0m: No module named 'imblearn'"
     ]
    }
   ],
   "source": []
  },
  {
   "cell_type": "code",
   "execution_count": 8,
   "metadata": {
    "vscode": {
     "languageId": "ruby"
    }
   },
   "outputs": [
    {
     "name": "stdout",
     "output_type": "stream",
     "text": [
      "Model Performance:\n",
      "              precision    recall  f1-score   support\n",
      "\n",
      "           0       0.66      0.43      0.52      6186\n",
      "           1       0.96      0.99      0.97     92693\n",
      "\n",
      "    accuracy                           0.95     98879\n",
      "   macro avg       0.81      0.71      0.75     98879\n",
      "weighted avg       0.94      0.95      0.95     98879\n",
      "\n"
     ]
    }
   ],
   "source": [
    "results = train_and_evaluate_rf(X_train, X_test, y_train, y_test)\n",
    "\n",
    "# Print the classification report\n",
    "print(\"Model Performance:\")\n",
    "print(results['metrics']['classification_report'])\n",
    "\n",
    "# Plot feature importance\n",
    "plot_feature_importance(results['metrics']['feature_importance'])\n",
    "\n",
    "# Access the trained model\n",
    "model = results['model']"
   ]
  },
  {
   "cell_type": "code",
   "execution_count": 17,
   "metadata": {
    "vscode": {
     "languageId": "ruby"
    }
   },
   "outputs": [
    {
     "data": {
      "text/plain": [
       "Index(['class_of_worker_government', 'class_of_worker_not_employed',\n",
       "       'class_of_worker_private_sector', 'class_of_worker_self-employed',\n",
       "       'education_advanced_degree', 'education_below_high_school',\n",
       "       'education_college_graduate', 'education_high_school_graduate',\n",
       "       'education_some_college',\n",
       "       'enroll_in_edu_inst_last_wk__college_or_university',\n",
       "       'enroll_in_edu_inst_last_wk__high_school', 'marital_stat_divorced',\n",
       "       'marital_stat_married', 'marital_stat_never_married',\n",
       "       'marital_stat_separated', 'marital_stat_widowed',\n",
       "       'major_industry_code__agriculture', 'major_industry_code__armed_forces',\n",
       "       'major_industry_code__business_and_repair_services',\n",
       "       'major_industry_code__communications',\n",
       "       'major_industry_code__construction', 'major_industry_code__education',\n",
       "       'major_industry_code__entertainment',\n",
       "       'major_industry_code__finance_insurance_and_real_estate',\n",
       "       'major_industry_code__forestry_and_fisheries',\n",
       "       'major_industry_code__hospital_services',\n",
       "       'major_industry_code__manufacturing-durable_goods',\n",
       "       'major_industry_code__manufacturing-nondurable_goods',\n",
       "       'major_industry_code__medical_except_hospital',\n",
       "       'major_industry_code__mining',\n",
       "       'major_industry_code__other_professional_services',\n",
       "       'major_industry_code__personal_services_except_private_hh',\n",
       "       'major_industry_code__private_household_services',\n",
       "       'major_industry_code__public_administration',\n",
       "       'major_industry_code__retail_trade',\n",
       "       'major_industry_code__social_services',\n",
       "       'major_industry_code__transportation',\n",
       "       'major_industry_code__utilities_and_sanitary_services',\n",
       "       'major_industry_code__wholesale_trade',\n",
       "       'race__amer_indian_aleut_or_eskimo', 'race__asian_or_pacific_islander',\n",
       "       'race__black', 'race__white', 'sex__male',\n",
       "       'member_of_a_labor_union__no', 'member_of_a_labor_union__yes',\n",
       "       'reason_for_unemployment_job_leaver',\n",
       "       'reason_for_unemployment_job_loser',\n",
       "       'reason_for_unemployment_new_entrant',\n",
       "       'reason_for_unemployment_re-entrant',\n",
       "       'full_or_part_time_employment_stat_fte',\n",
       "       'full_or_part_time_employment_stat_not_employed',\n",
       "       'full_or_part_time_employment_stat_pte',\n",
       "       'tax_filer_stat_individual_filer', 'tax_filer_stat_non-filer',\n",
       "       'region_of_previous_residence__abroad',\n",
       "       'region_of_previous_residence__midwest',\n",
       "       'region_of_previous_residence__northeast',\n",
       "       'region_of_previous_residence__south',\n",
       "       'region_of_previous_residence__west',\n",
       "       'detailed_household_and_family_stat_child',\n",
       "       'detailed_household_and_family_stat_extended_family',\n",
       "       'detailed_household_and_family_stat_primary_householder',\n",
       "       'migration_code_change_in_reg_different_area',\n",
       "       'migration_code_change_in_reg_same_area',\n",
       "       'live_in_this_house_1_year_ago__no',\n",
       "       'live_in_this_house_1_year_ago__yes',\n",
       "       'migration_prev_res_in_sunbelt__no',\n",
       "       'migration_prev_res_in_sunbelt__yes',\n",
       "       'family_members_under_18__both_parents_present',\n",
       "       'family_members_under_18__father_only_present',\n",
       "       'family_members_under_18__mother_only_present',\n",
       "       'family_members_under_18__neither_parent_present',\n",
       "       'citizenship_foreign', 'citizenship_native',\n",
       "       'own_business_or_self_employed_no', 'own_business_or_self_employed_yes',\n",
       "       'veterans_benefits_not_a_veteran', 'veterans_benefits_veteran'],\n",
       "      dtype='object')"
      ]
     },
     "execution_count": 17,
     "metadata": {},
     "output_type": "execute_result"
    }
   ],
   "source": [
    "\n",
    "X_train.columns[7:len(X_train.columns)]"
   ]
  },
  {
   "cell_type": "code",
   "execution_count": null,
   "metadata": {
    "vscode": {
     "languageId": "ruby"
    }
   },
   "outputs": [],
   "source": [
    "categorical_features = [0, 2, 5]  # Replace with your actual categorical feature indices\n",
    "\n",
    "# Train the model with SMOTE-NC\n",
    "results = train_and_evaluate_rf(X_train, X_test, y_train, y_test,\n",
    "                              use_smote=True,\n",
    "                              categorical_features=categorical_features)\n",
    "\n",
    "# Print the classification report\n",
    "print(\"\\nModel Performance:\")\n",
    "print(results['metrics']['classification_report'])\n",
    "\n",
    "# Plot feature importance\n",
    "plot_feature_importance(results['metrics']['feature_importance'])"
   ]
  }
 ],
 "metadata": {
  "kernelspec": {
   "display_name": ".venv",
   "language": "python",
   "name": "python3"
  },
  "language_info": {
   "codemirror_mode": {
    "name": "ipython",
    "version": 3
   },
   "file_extension": ".py",
   "mimetype": "text/x-python",
   "name": "python",
   "nbconvert_exporter": "python",
   "pygments_lexer": "ipython3",
   "version": "3.12.1"
  }
 },
 "nbformat": 4,
 "nbformat_minor": 2
}
